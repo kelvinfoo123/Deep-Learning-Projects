{
  "nbformat": 4,
  "nbformat_minor": 0,
  "metadata": {
    "colab": {
      "provenance": [],
      "authorship_tag": "ABX9TyOxp/Go9Iesx4lkGx/MYiYo",
      "include_colab_link": true
    },
    "kernelspec": {
      "name": "python3",
      "display_name": "Python 3"
    },
    "language_info": {
      "name": "python"
    }
  },
  "cells": [
    {
      "cell_type": "markdown",
      "metadata": {
        "id": "view-in-github",
        "colab_type": "text"
      },
      "source": [
        "<a href=\"https://colab.research.google.com/github/kelvinfoo123/Deep-Learning-Projects/blob/main/Lung_Cancer_Classification_(Tensorflow_Neural_Network).ipynb\" target=\"_parent\"><img src=\"https://colab.research.google.com/assets/colab-badge.svg\" alt=\"Open In Colab\"/></a>"
      ]
    },
    {
      "cell_type": "markdown",
      "source": [
        "**Import Data**\n"
      ],
      "metadata": {
        "id": "SIBFbNcfPq_-"
      }
    },
    {
      "cell_type": "code",
      "execution_count": null,
      "metadata": {
        "colab": {
          "base_uri": "https://localhost:8080/",
          "height": 444
        },
        "id": "OYLEDAyrNNAQ",
        "outputId": "4cfea262-7bd9-4de9-dc53-ee511a0d36f3"
      },
      "outputs": [
        {
          "output_type": "execute_result",
          "data": {
            "text/plain": [
              "  GENDER  AGE  SMOKING  YELLOW_FINGERS  ANXIETY  PEER_PRESSURE  \\\n",
              "0      M   69        1               2        2              1   \n",
              "1      M   74        2               1        1              1   \n",
              "2      F   59        1               1        1              2   \n",
              "3      M   63        2               2        2              1   \n",
              "4      F   63        1               2        1              1   \n",
              "5      F   75        1               2        1              1   \n",
              "6      M   52        2               1        1              1   \n",
              "7      F   51        2               2        2              2   \n",
              "8      F   68        2               1        2              1   \n",
              "9      M   53        2               2        2              2   \n",
              "\n",
              "   CHRONIC DISEASE  FATIGUE   ALLERGY   WHEEZING  ALCOHOL CONSUMING  COUGHING  \\\n",
              "0                1         2         1         2                  2         2   \n",
              "1                2         2         2         1                  1         1   \n",
              "2                1         2         1         2                  1         2   \n",
              "3                1         1         1         1                  2         1   \n",
              "4                1         1         1         2                  1         2   \n",
              "5                2         2         2         2                  1         2   \n",
              "6                1         2         1         2                  2         2   \n",
              "7                1         2         2         1                  1         1   \n",
              "8                1         2         1         1                  1         1   \n",
              "9                2         1         2         1                  2         1   \n",
              "\n",
              "   SHORTNESS OF BREATH  SWALLOWING DIFFICULTY  CHEST PAIN LUNG_CANCER  \n",
              "0                    2                      2           2         YES  \n",
              "1                    2                      2           2         YES  \n",
              "2                    2                      1           2          NO  \n",
              "3                    1                      2           2          NO  \n",
              "4                    2                      1           1          NO  \n",
              "5                    2                      1           1         YES  \n",
              "6                    2                      1           2         YES  \n",
              "7                    2                      2           1         YES  \n",
              "8                    1                      1           1          NO  \n",
              "9                    1                      2           2         YES  "
            ],
            "text/html": [
              "\n",
              "  <div id=\"df-12f1a427-2e2c-4216-82d0-37b86e45a7c3\">\n",
              "    <div class=\"colab-df-container\">\n",
              "      <div>\n",
              "<style scoped>\n",
              "    .dataframe tbody tr th:only-of-type {\n",
              "        vertical-align: middle;\n",
              "    }\n",
              "\n",
              "    .dataframe tbody tr th {\n",
              "        vertical-align: top;\n",
              "    }\n",
              "\n",
              "    .dataframe thead th {\n",
              "        text-align: right;\n",
              "    }\n",
              "</style>\n",
              "<table border=\"1\" class=\"dataframe\">\n",
              "  <thead>\n",
              "    <tr style=\"text-align: right;\">\n",
              "      <th></th>\n",
              "      <th>GENDER</th>\n",
              "      <th>AGE</th>\n",
              "      <th>SMOKING</th>\n",
              "      <th>YELLOW_FINGERS</th>\n",
              "      <th>ANXIETY</th>\n",
              "      <th>PEER_PRESSURE</th>\n",
              "      <th>CHRONIC DISEASE</th>\n",
              "      <th>FATIGUE</th>\n",
              "      <th>ALLERGY</th>\n",
              "      <th>WHEEZING</th>\n",
              "      <th>ALCOHOL CONSUMING</th>\n",
              "      <th>COUGHING</th>\n",
              "      <th>SHORTNESS OF BREATH</th>\n",
              "      <th>SWALLOWING DIFFICULTY</th>\n",
              "      <th>CHEST PAIN</th>\n",
              "      <th>LUNG_CANCER</th>\n",
              "    </tr>\n",
              "  </thead>\n",
              "  <tbody>\n",
              "    <tr>\n",
              "      <th>0</th>\n",
              "      <td>M</td>\n",
              "      <td>69</td>\n",
              "      <td>1</td>\n",
              "      <td>2</td>\n",
              "      <td>2</td>\n",
              "      <td>1</td>\n",
              "      <td>1</td>\n",
              "      <td>2</td>\n",
              "      <td>1</td>\n",
              "      <td>2</td>\n",
              "      <td>2</td>\n",
              "      <td>2</td>\n",
              "      <td>2</td>\n",
              "      <td>2</td>\n",
              "      <td>2</td>\n",
              "      <td>YES</td>\n",
              "    </tr>\n",
              "    <tr>\n",
              "      <th>1</th>\n",
              "      <td>M</td>\n",
              "      <td>74</td>\n",
              "      <td>2</td>\n",
              "      <td>1</td>\n",
              "      <td>1</td>\n",
              "      <td>1</td>\n",
              "      <td>2</td>\n",
              "      <td>2</td>\n",
              "      <td>2</td>\n",
              "      <td>1</td>\n",
              "      <td>1</td>\n",
              "      <td>1</td>\n",
              "      <td>2</td>\n",
              "      <td>2</td>\n",
              "      <td>2</td>\n",
              "      <td>YES</td>\n",
              "    </tr>\n",
              "    <tr>\n",
              "      <th>2</th>\n",
              "      <td>F</td>\n",
              "      <td>59</td>\n",
              "      <td>1</td>\n",
              "      <td>1</td>\n",
              "      <td>1</td>\n",
              "      <td>2</td>\n",
              "      <td>1</td>\n",
              "      <td>2</td>\n",
              "      <td>1</td>\n",
              "      <td>2</td>\n",
              "      <td>1</td>\n",
              "      <td>2</td>\n",
              "      <td>2</td>\n",
              "      <td>1</td>\n",
              "      <td>2</td>\n",
              "      <td>NO</td>\n",
              "    </tr>\n",
              "    <tr>\n",
              "      <th>3</th>\n",
              "      <td>M</td>\n",
              "      <td>63</td>\n",
              "      <td>2</td>\n",
              "      <td>2</td>\n",
              "      <td>2</td>\n",
              "      <td>1</td>\n",
              "      <td>1</td>\n",
              "      <td>1</td>\n",
              "      <td>1</td>\n",
              "      <td>1</td>\n",
              "      <td>2</td>\n",
              "      <td>1</td>\n",
              "      <td>1</td>\n",
              "      <td>2</td>\n",
              "      <td>2</td>\n",
              "      <td>NO</td>\n",
              "    </tr>\n",
              "    <tr>\n",
              "      <th>4</th>\n",
              "      <td>F</td>\n",
              "      <td>63</td>\n",
              "      <td>1</td>\n",
              "      <td>2</td>\n",
              "      <td>1</td>\n",
              "      <td>1</td>\n",
              "      <td>1</td>\n",
              "      <td>1</td>\n",
              "      <td>1</td>\n",
              "      <td>2</td>\n",
              "      <td>1</td>\n",
              "      <td>2</td>\n",
              "      <td>2</td>\n",
              "      <td>1</td>\n",
              "      <td>1</td>\n",
              "      <td>NO</td>\n",
              "    </tr>\n",
              "    <tr>\n",
              "      <th>5</th>\n",
              "      <td>F</td>\n",
              "      <td>75</td>\n",
              "      <td>1</td>\n",
              "      <td>2</td>\n",
              "      <td>1</td>\n",
              "      <td>1</td>\n",
              "      <td>2</td>\n",
              "      <td>2</td>\n",
              "      <td>2</td>\n",
              "      <td>2</td>\n",
              "      <td>1</td>\n",
              "      <td>2</td>\n",
              "      <td>2</td>\n",
              "      <td>1</td>\n",
              "      <td>1</td>\n",
              "      <td>YES</td>\n",
              "    </tr>\n",
              "    <tr>\n",
              "      <th>6</th>\n",
              "      <td>M</td>\n",
              "      <td>52</td>\n",
              "      <td>2</td>\n",
              "      <td>1</td>\n",
              "      <td>1</td>\n",
              "      <td>1</td>\n",
              "      <td>1</td>\n",
              "      <td>2</td>\n",
              "      <td>1</td>\n",
              "      <td>2</td>\n",
              "      <td>2</td>\n",
              "      <td>2</td>\n",
              "      <td>2</td>\n",
              "      <td>1</td>\n",
              "      <td>2</td>\n",
              "      <td>YES</td>\n",
              "    </tr>\n",
              "    <tr>\n",
              "      <th>7</th>\n",
              "      <td>F</td>\n",
              "      <td>51</td>\n",
              "      <td>2</td>\n",
              "      <td>2</td>\n",
              "      <td>2</td>\n",
              "      <td>2</td>\n",
              "      <td>1</td>\n",
              "      <td>2</td>\n",
              "      <td>2</td>\n",
              "      <td>1</td>\n",
              "      <td>1</td>\n",
              "      <td>1</td>\n",
              "      <td>2</td>\n",
              "      <td>2</td>\n",
              "      <td>1</td>\n",
              "      <td>YES</td>\n",
              "    </tr>\n",
              "    <tr>\n",
              "      <th>8</th>\n",
              "      <td>F</td>\n",
              "      <td>68</td>\n",
              "      <td>2</td>\n",
              "      <td>1</td>\n",
              "      <td>2</td>\n",
              "      <td>1</td>\n",
              "      <td>1</td>\n",
              "      <td>2</td>\n",
              "      <td>1</td>\n",
              "      <td>1</td>\n",
              "      <td>1</td>\n",
              "      <td>1</td>\n",
              "      <td>1</td>\n",
              "      <td>1</td>\n",
              "      <td>1</td>\n",
              "      <td>NO</td>\n",
              "    </tr>\n",
              "    <tr>\n",
              "      <th>9</th>\n",
              "      <td>M</td>\n",
              "      <td>53</td>\n",
              "      <td>2</td>\n",
              "      <td>2</td>\n",
              "      <td>2</td>\n",
              "      <td>2</td>\n",
              "      <td>2</td>\n",
              "      <td>1</td>\n",
              "      <td>2</td>\n",
              "      <td>1</td>\n",
              "      <td>2</td>\n",
              "      <td>1</td>\n",
              "      <td>1</td>\n",
              "      <td>2</td>\n",
              "      <td>2</td>\n",
              "      <td>YES</td>\n",
              "    </tr>\n",
              "  </tbody>\n",
              "</table>\n",
              "</div>\n",
              "      <button class=\"colab-df-convert\" onclick=\"convertToInteractive('df-12f1a427-2e2c-4216-82d0-37b86e45a7c3')\"\n",
              "              title=\"Convert this dataframe to an interactive table.\"\n",
              "              style=\"display:none;\">\n",
              "        \n",
              "  <svg xmlns=\"http://www.w3.org/2000/svg\" height=\"24px\"viewBox=\"0 0 24 24\"\n",
              "       width=\"24px\">\n",
              "    <path d=\"M0 0h24v24H0V0z\" fill=\"none\"/>\n",
              "    <path d=\"M18.56 5.44l.94 2.06.94-2.06 2.06-.94-2.06-.94-.94-2.06-.94 2.06-2.06.94zm-11 1L8.5 8.5l.94-2.06 2.06-.94-2.06-.94L8.5 2.5l-.94 2.06-2.06.94zm10 10l.94 2.06.94-2.06 2.06-.94-2.06-.94-.94-2.06-.94 2.06-2.06.94z\"/><path d=\"M17.41 7.96l-1.37-1.37c-.4-.4-.92-.59-1.43-.59-.52 0-1.04.2-1.43.59L10.3 9.45l-7.72 7.72c-.78.78-.78 2.05 0 2.83L4 21.41c.39.39.9.59 1.41.59.51 0 1.02-.2 1.41-.59l7.78-7.78 2.81-2.81c.8-.78.8-2.07 0-2.86zM5.41 20L4 18.59l7.72-7.72 1.47 1.35L5.41 20z\"/>\n",
              "  </svg>\n",
              "      </button>\n",
              "      \n",
              "  <style>\n",
              "    .colab-df-container {\n",
              "      display:flex;\n",
              "      flex-wrap:wrap;\n",
              "      gap: 12px;\n",
              "    }\n",
              "\n",
              "    .colab-df-convert {\n",
              "      background-color: #E8F0FE;\n",
              "      border: none;\n",
              "      border-radius: 50%;\n",
              "      cursor: pointer;\n",
              "      display: none;\n",
              "      fill: #1967D2;\n",
              "      height: 32px;\n",
              "      padding: 0 0 0 0;\n",
              "      width: 32px;\n",
              "    }\n",
              "\n",
              "    .colab-df-convert:hover {\n",
              "      background-color: #E2EBFA;\n",
              "      box-shadow: 0px 1px 2px rgba(60, 64, 67, 0.3), 0px 1px 3px 1px rgba(60, 64, 67, 0.15);\n",
              "      fill: #174EA6;\n",
              "    }\n",
              "\n",
              "    [theme=dark] .colab-df-convert {\n",
              "      background-color: #3B4455;\n",
              "      fill: #D2E3FC;\n",
              "    }\n",
              "\n",
              "    [theme=dark] .colab-df-convert:hover {\n",
              "      background-color: #434B5C;\n",
              "      box-shadow: 0px 1px 3px 1px rgba(0, 0, 0, 0.15);\n",
              "      filter: drop-shadow(0px 1px 2px rgba(0, 0, 0, 0.3));\n",
              "      fill: #FFFFFF;\n",
              "    }\n",
              "  </style>\n",
              "\n",
              "      <script>\n",
              "        const buttonEl =\n",
              "          document.querySelector('#df-12f1a427-2e2c-4216-82d0-37b86e45a7c3 button.colab-df-convert');\n",
              "        buttonEl.style.display =\n",
              "          google.colab.kernel.accessAllowed ? 'block' : 'none';\n",
              "\n",
              "        async function convertToInteractive(key) {\n",
              "          const element = document.querySelector('#df-12f1a427-2e2c-4216-82d0-37b86e45a7c3');\n",
              "          const dataTable =\n",
              "            await google.colab.kernel.invokeFunction('convertToInteractive',\n",
              "                                                     [key], {});\n",
              "          if (!dataTable) return;\n",
              "\n",
              "          const docLinkHtml = 'Like what you see? Visit the ' +\n",
              "            '<a target=\"_blank\" href=https://colab.research.google.com/notebooks/data_table.ipynb>data table notebook</a>'\n",
              "            + ' to learn more about interactive tables.';\n",
              "          element.innerHTML = '';\n",
              "          dataTable['output_type'] = 'display_data';\n",
              "          await google.colab.output.renderOutput(dataTable, element);\n",
              "          const docLink = document.createElement('div');\n",
              "          docLink.innerHTML = docLinkHtml;\n",
              "          element.appendChild(docLink);\n",
              "        }\n",
              "      </script>\n",
              "    </div>\n",
              "  </div>\n",
              "  "
            ]
          },
          "metadata": {},
          "execution_count": 32
        }
      ],
      "source": [
        "import pandas as pd \n",
        "import matplotlib.pyplot as plt\n",
        "import seaborn as sns \n",
        "import numpy as np \n",
        "\n",
        "cancer = pd.read_csv(\"lung_cancer.csv\")\n",
        "cancer.head(10)"
      ]
    },
    {
      "cell_type": "markdown",
      "source": [
        "**Data Preprocessing**"
      ],
      "metadata": {
        "id": "nXY3T5auP1zg"
      }
    },
    {
      "cell_type": "code",
      "source": [
        "cancer.duplicated().sum() # There are 33 duplicated samples in the dataset. \n",
        "\n",
        "# Drop duplicate\n",
        "cancer.drop_duplicates(inplace = True)"
      ],
      "metadata": {
        "id": "fii2ppF_PzJM"
      },
      "execution_count": null,
      "outputs": []
    },
    {
      "cell_type": "code",
      "source": [
        "# Label Encoder \n",
        "\n",
        "from sklearn.preprocessing import LabelEncoder \n",
        "encoder = LabelEncoder()\n",
        "cancer[\"GENDER\"] = encoder.fit_transform(cancer[\"GENDER\"])\n",
        "cancer[\"LUNG_CANCER\"] = encoder.fit_transform(cancer[\"LUNG_CANCER\"])"
      ],
      "metadata": {
        "id": "3P2vA6qPP0_w"
      },
      "execution_count": null,
      "outputs": []
    },
    {
      "cell_type": "code",
      "source": [
        "# Split into X and y \n",
        "\n",
        "X = cancer.drop([\"LUNG_CANCER\"], axis = 1)\n",
        "y = cancer[\"LUNG_CANCER\"]"
      ],
      "metadata": {
        "id": "HoaD7IjrRC50"
      },
      "execution_count": null,
      "outputs": []
    },
    {
      "cell_type": "code",
      "source": [
        "# Change 1 and 2 to 0 and 1 \n",
        "\n",
        "for i in X.columns[2:]: \n",
        "  temp = []\n",
        "  for j in X[i]: \n",
        "    temp.append(j - 1)\n",
        "  X[i] = temp \n",
        "\n",
        "X.head()"
      ],
      "metadata": {
        "colab": {
          "base_uri": "https://localhost:8080/",
          "height": 287
        },
        "id": "mKNoVE8nRIE8",
        "outputId": "bca8ba6c-9c01-4e3d-e06f-641c76ec323d"
      },
      "execution_count": null,
      "outputs": [
        {
          "output_type": "execute_result",
          "data": {
            "text/plain": [
              "   GENDER  AGE  SMOKING  YELLOW_FINGERS  ANXIETY  PEER_PRESSURE  \\\n",
              "0       1   69        0               1        1              0   \n",
              "1       1   74        1               0        0              0   \n",
              "2       0   59        0               0        0              1   \n",
              "3       1   63        1               1        1              0   \n",
              "4       0   63        0               1        0              0   \n",
              "\n",
              "   CHRONIC DISEASE  FATIGUE   ALLERGY   WHEEZING  ALCOHOL CONSUMING  COUGHING  \\\n",
              "0                0         1         0         1                  1         1   \n",
              "1                1         1         1         0                  0         0   \n",
              "2                0         1         0         1                  0         1   \n",
              "3                0         0         0         0                  1         0   \n",
              "4                0         0         0         1                  0         1   \n",
              "\n",
              "   SHORTNESS OF BREATH  SWALLOWING DIFFICULTY  CHEST PAIN  \n",
              "0                    1                      1           1  \n",
              "1                    1                      1           1  \n",
              "2                    1                      0           1  \n",
              "3                    0                      1           1  \n",
              "4                    1                      0           0  "
            ],
            "text/html": [
              "\n",
              "  <div id=\"df-d7b0f666-b5e6-4907-aad7-a3bf73117ec5\">\n",
              "    <div class=\"colab-df-container\">\n",
              "      <div>\n",
              "<style scoped>\n",
              "    .dataframe tbody tr th:only-of-type {\n",
              "        vertical-align: middle;\n",
              "    }\n",
              "\n",
              "    .dataframe tbody tr th {\n",
              "        vertical-align: top;\n",
              "    }\n",
              "\n",
              "    .dataframe thead th {\n",
              "        text-align: right;\n",
              "    }\n",
              "</style>\n",
              "<table border=\"1\" class=\"dataframe\">\n",
              "  <thead>\n",
              "    <tr style=\"text-align: right;\">\n",
              "      <th></th>\n",
              "      <th>GENDER</th>\n",
              "      <th>AGE</th>\n",
              "      <th>SMOKING</th>\n",
              "      <th>YELLOW_FINGERS</th>\n",
              "      <th>ANXIETY</th>\n",
              "      <th>PEER_PRESSURE</th>\n",
              "      <th>CHRONIC DISEASE</th>\n",
              "      <th>FATIGUE</th>\n",
              "      <th>ALLERGY</th>\n",
              "      <th>WHEEZING</th>\n",
              "      <th>ALCOHOL CONSUMING</th>\n",
              "      <th>COUGHING</th>\n",
              "      <th>SHORTNESS OF BREATH</th>\n",
              "      <th>SWALLOWING DIFFICULTY</th>\n",
              "      <th>CHEST PAIN</th>\n",
              "    </tr>\n",
              "  </thead>\n",
              "  <tbody>\n",
              "    <tr>\n",
              "      <th>0</th>\n",
              "      <td>1</td>\n",
              "      <td>69</td>\n",
              "      <td>0</td>\n",
              "      <td>1</td>\n",
              "      <td>1</td>\n",
              "      <td>0</td>\n",
              "      <td>0</td>\n",
              "      <td>1</td>\n",
              "      <td>0</td>\n",
              "      <td>1</td>\n",
              "      <td>1</td>\n",
              "      <td>1</td>\n",
              "      <td>1</td>\n",
              "      <td>1</td>\n",
              "      <td>1</td>\n",
              "    </tr>\n",
              "    <tr>\n",
              "      <th>1</th>\n",
              "      <td>1</td>\n",
              "      <td>74</td>\n",
              "      <td>1</td>\n",
              "      <td>0</td>\n",
              "      <td>0</td>\n",
              "      <td>0</td>\n",
              "      <td>1</td>\n",
              "      <td>1</td>\n",
              "      <td>1</td>\n",
              "      <td>0</td>\n",
              "      <td>0</td>\n",
              "      <td>0</td>\n",
              "      <td>1</td>\n",
              "      <td>1</td>\n",
              "      <td>1</td>\n",
              "    </tr>\n",
              "    <tr>\n",
              "      <th>2</th>\n",
              "      <td>0</td>\n",
              "      <td>59</td>\n",
              "      <td>0</td>\n",
              "      <td>0</td>\n",
              "      <td>0</td>\n",
              "      <td>1</td>\n",
              "      <td>0</td>\n",
              "      <td>1</td>\n",
              "      <td>0</td>\n",
              "      <td>1</td>\n",
              "      <td>0</td>\n",
              "      <td>1</td>\n",
              "      <td>1</td>\n",
              "      <td>0</td>\n",
              "      <td>1</td>\n",
              "    </tr>\n",
              "    <tr>\n",
              "      <th>3</th>\n",
              "      <td>1</td>\n",
              "      <td>63</td>\n",
              "      <td>1</td>\n",
              "      <td>1</td>\n",
              "      <td>1</td>\n",
              "      <td>0</td>\n",
              "      <td>0</td>\n",
              "      <td>0</td>\n",
              "      <td>0</td>\n",
              "      <td>0</td>\n",
              "      <td>1</td>\n",
              "      <td>0</td>\n",
              "      <td>0</td>\n",
              "      <td>1</td>\n",
              "      <td>1</td>\n",
              "    </tr>\n",
              "    <tr>\n",
              "      <th>4</th>\n",
              "      <td>0</td>\n",
              "      <td>63</td>\n",
              "      <td>0</td>\n",
              "      <td>1</td>\n",
              "      <td>0</td>\n",
              "      <td>0</td>\n",
              "      <td>0</td>\n",
              "      <td>0</td>\n",
              "      <td>0</td>\n",
              "      <td>1</td>\n",
              "      <td>0</td>\n",
              "      <td>1</td>\n",
              "      <td>1</td>\n",
              "      <td>0</td>\n",
              "      <td>0</td>\n",
              "    </tr>\n",
              "  </tbody>\n",
              "</table>\n",
              "</div>\n",
              "      <button class=\"colab-df-convert\" onclick=\"convertToInteractive('df-d7b0f666-b5e6-4907-aad7-a3bf73117ec5')\"\n",
              "              title=\"Convert this dataframe to an interactive table.\"\n",
              "              style=\"display:none;\">\n",
              "        \n",
              "  <svg xmlns=\"http://www.w3.org/2000/svg\" height=\"24px\"viewBox=\"0 0 24 24\"\n",
              "       width=\"24px\">\n",
              "    <path d=\"M0 0h24v24H0V0z\" fill=\"none\"/>\n",
              "    <path d=\"M18.56 5.44l.94 2.06.94-2.06 2.06-.94-2.06-.94-.94-2.06-.94 2.06-2.06.94zm-11 1L8.5 8.5l.94-2.06 2.06-.94-2.06-.94L8.5 2.5l-.94 2.06-2.06.94zm10 10l.94 2.06.94-2.06 2.06-.94-2.06-.94-.94-2.06-.94 2.06-2.06.94z\"/><path d=\"M17.41 7.96l-1.37-1.37c-.4-.4-.92-.59-1.43-.59-.52 0-1.04.2-1.43.59L10.3 9.45l-7.72 7.72c-.78.78-.78 2.05 0 2.83L4 21.41c.39.39.9.59 1.41.59.51 0 1.02-.2 1.41-.59l7.78-7.78 2.81-2.81c.8-.78.8-2.07 0-2.86zM5.41 20L4 18.59l7.72-7.72 1.47 1.35L5.41 20z\"/>\n",
              "  </svg>\n",
              "      </button>\n",
              "      \n",
              "  <style>\n",
              "    .colab-df-container {\n",
              "      display:flex;\n",
              "      flex-wrap:wrap;\n",
              "      gap: 12px;\n",
              "    }\n",
              "\n",
              "    .colab-df-convert {\n",
              "      background-color: #E8F0FE;\n",
              "      border: none;\n",
              "      border-radius: 50%;\n",
              "      cursor: pointer;\n",
              "      display: none;\n",
              "      fill: #1967D2;\n",
              "      height: 32px;\n",
              "      padding: 0 0 0 0;\n",
              "      width: 32px;\n",
              "    }\n",
              "\n",
              "    .colab-df-convert:hover {\n",
              "      background-color: #E2EBFA;\n",
              "      box-shadow: 0px 1px 2px rgba(60, 64, 67, 0.3), 0px 1px 3px 1px rgba(60, 64, 67, 0.15);\n",
              "      fill: #174EA6;\n",
              "    }\n",
              "\n",
              "    [theme=dark] .colab-df-convert {\n",
              "      background-color: #3B4455;\n",
              "      fill: #D2E3FC;\n",
              "    }\n",
              "\n",
              "    [theme=dark] .colab-df-convert:hover {\n",
              "      background-color: #434B5C;\n",
              "      box-shadow: 0px 1px 3px 1px rgba(0, 0, 0, 0.15);\n",
              "      filter: drop-shadow(0px 1px 2px rgba(0, 0, 0, 0.3));\n",
              "      fill: #FFFFFF;\n",
              "    }\n",
              "  </style>\n",
              "\n",
              "      <script>\n",
              "        const buttonEl =\n",
              "          document.querySelector('#df-d7b0f666-b5e6-4907-aad7-a3bf73117ec5 button.colab-df-convert');\n",
              "        buttonEl.style.display =\n",
              "          google.colab.kernel.accessAllowed ? 'block' : 'none';\n",
              "\n",
              "        async function convertToInteractive(key) {\n",
              "          const element = document.querySelector('#df-d7b0f666-b5e6-4907-aad7-a3bf73117ec5');\n",
              "          const dataTable =\n",
              "            await google.colab.kernel.invokeFunction('convertToInteractive',\n",
              "                                                     [key], {});\n",
              "          if (!dataTable) return;\n",
              "\n",
              "          const docLinkHtml = 'Like what you see? Visit the ' +\n",
              "            '<a target=\"_blank\" href=https://colab.research.google.com/notebooks/data_table.ipynb>data table notebook</a>'\n",
              "            + ' to learn more about interactive tables.';\n",
              "          element.innerHTML = '';\n",
              "          dataTable['output_type'] = 'display_data';\n",
              "          await google.colab.output.renderOutput(dataTable, element);\n",
              "          const docLink = document.createElement('div');\n",
              "          docLink.innerHTML = docLinkHtml;\n",
              "          element.appendChild(docLink);\n",
              "        }\n",
              "      </script>\n",
              "    </div>\n",
              "  </div>\n",
              "  "
            ]
          },
          "metadata": {},
          "execution_count": 5
        }
      ]
    },
    {
      "cell_type": "code",
      "source": [
        "# Scaling \n",
        "\n",
        "from sklearn.preprocessing import StandardScaler \n",
        "scaler = StandardScaler()\n",
        "X['AGE'] = scaler.fit_transform(X[['AGE']])"
      ],
      "metadata": {
        "id": "bzaNujgSRNGp"
      },
      "execution_count": null,
      "outputs": []
    },
    {
      "cell_type": "code",
      "source": [
        "# Oversampling of minority class \n",
        "# One way to deal with imbalanced data is to oversample, meaning to add more copies to the minority class.\n",
        "# RandomOverSampler generates new samples by randomly sampling with replacement of the currently available samples. \n",
        "\n",
        "from imblearn.over_sampling import RandomOverSampler \n",
        "X, y = RandomOverSampler().fit_resample(X,y) "
      ],
      "metadata": {
        "id": "XdwEPZVCRQgB"
      },
      "execution_count": null,
      "outputs": []
    },
    {
      "cell_type": "code",
      "source": [
        "# Split into training and test set \n",
        "\n",
        "from sklearn.model_selection import train_test_split\n",
        "X_train, X_test, y_train, y_test = train_test_split(X, y, test_size = 0.3, random_state = 42)"
      ],
      "metadata": {
        "id": "BrUhfs1JRUwI"
      },
      "execution_count": null,
      "outputs": []
    },
    {
      "cell_type": "markdown",
      "source": [
        "**Model Building**"
      ],
      "metadata": {
        "id": "OZmrrPJTRlvG"
      }
    },
    {
      "cell_type": "code",
      "source": [
        "!pip install tensorflow \n",
        "\n",
        "import tensorflow.keras \n",
        "from tensorflow.keras import Sequential, regularizers\n",
        "from tensorflow.keras.layers import Dense, Dropout "
      ],
      "metadata": {
        "colab": {
          "base_uri": "https://localhost:8080/"
        },
        "id": "lYYkbGqKRp4R",
        "outputId": "53fb2f72-8bc6-4162-9f15-7b5010719a68"
      },
      "execution_count": null,
      "outputs": [
        {
          "output_type": "stream",
          "name": "stdout",
          "text": [
            "Looking in indexes: https://pypi.org/simple, https://us-python.pkg.dev/colab-wheels/public/simple/\n",
            "Requirement already satisfied: tensorflow in /usr/local/lib/python3.7/dist-packages (2.9.2)\n",
            "Requirement already satisfied: termcolor>=1.1.0 in /usr/local/lib/python3.7/dist-packages (from tensorflow) (2.1.0)\n",
            "Requirement already satisfied: packaging in /usr/local/lib/python3.7/dist-packages (from tensorflow) (21.3)\n",
            "Requirement already satisfied: typing-extensions>=3.6.6 in /usr/local/lib/python3.7/dist-packages (from tensorflow) (4.1.1)\n",
            "Requirement already satisfied: setuptools in /usr/local/lib/python3.7/dist-packages (from tensorflow) (57.4.0)\n",
            "Requirement already satisfied: h5py>=2.9.0 in /usr/local/lib/python3.7/dist-packages (from tensorflow) (3.1.0)\n",
            "Requirement already satisfied: keras-preprocessing>=1.1.1 in /usr/local/lib/python3.7/dist-packages (from tensorflow) (1.1.2)\n",
            "Requirement already satisfied: keras<2.10.0,>=2.9.0rc0 in /usr/local/lib/python3.7/dist-packages (from tensorflow) (2.9.0)\n",
            "Requirement already satisfied: tensorboard<2.10,>=2.9 in /usr/local/lib/python3.7/dist-packages (from tensorflow) (2.9.1)\n",
            "Requirement already satisfied: google-pasta>=0.1.1 in /usr/local/lib/python3.7/dist-packages (from tensorflow) (0.2.0)\n",
            "Requirement already satisfied: opt-einsum>=2.3.2 in /usr/local/lib/python3.7/dist-packages (from tensorflow) (3.3.0)\n",
            "Requirement already satisfied: absl-py>=1.0.0 in /usr/local/lib/python3.7/dist-packages (from tensorflow) (1.3.0)\n",
            "Requirement already satisfied: flatbuffers<2,>=1.12 in /usr/local/lib/python3.7/dist-packages (from tensorflow) (1.12)\n",
            "Requirement already satisfied: libclang>=13.0.0 in /usr/local/lib/python3.7/dist-packages (from tensorflow) (14.0.6)\n",
            "Requirement already satisfied: gast<=0.4.0,>=0.2.1 in /usr/local/lib/python3.7/dist-packages (from tensorflow) (0.4.0)\n",
            "Requirement already satisfied: grpcio<2.0,>=1.24.3 in /usr/local/lib/python3.7/dist-packages (from tensorflow) (1.50.0)\n",
            "Requirement already satisfied: tensorflow-estimator<2.10.0,>=2.9.0rc0 in /usr/local/lib/python3.7/dist-packages (from tensorflow) (2.9.0)\n",
            "Requirement already satisfied: numpy>=1.20 in /usr/local/lib/python3.7/dist-packages (from tensorflow) (1.21.6)\n",
            "Requirement already satisfied: astunparse>=1.6.0 in /usr/local/lib/python3.7/dist-packages (from tensorflow) (1.6.3)\n",
            "Requirement already satisfied: six>=1.12.0 in /usr/local/lib/python3.7/dist-packages (from tensorflow) (1.15.0)\n",
            "Requirement already satisfied: tensorflow-io-gcs-filesystem>=0.23.1 in /usr/local/lib/python3.7/dist-packages (from tensorflow) (0.27.0)\n",
            "Requirement already satisfied: wrapt>=1.11.0 in /usr/local/lib/python3.7/dist-packages (from tensorflow) (1.14.1)\n",
            "Requirement already satisfied: protobuf<3.20,>=3.9.2 in /usr/local/lib/python3.7/dist-packages (from tensorflow) (3.17.3)\n",
            "Requirement already satisfied: wheel<1.0,>=0.23.0 in /usr/local/lib/python3.7/dist-packages (from astunparse>=1.6.0->tensorflow) (0.38.1)\n",
            "Requirement already satisfied: cached-property in /usr/local/lib/python3.7/dist-packages (from h5py>=2.9.0->tensorflow) (1.5.2)\n",
            "Requirement already satisfied: markdown>=2.6.8 in /usr/local/lib/python3.7/dist-packages (from tensorboard<2.10,>=2.9->tensorflow) (3.4.1)\n",
            "Requirement already satisfied: werkzeug>=1.0.1 in /usr/local/lib/python3.7/dist-packages (from tensorboard<2.10,>=2.9->tensorflow) (1.0.1)\n",
            "Requirement already satisfied: google-auth-oauthlib<0.5,>=0.4.1 in /usr/local/lib/python3.7/dist-packages (from tensorboard<2.10,>=2.9->tensorflow) (0.4.6)\n",
            "Requirement already satisfied: google-auth<3,>=1.6.3 in /usr/local/lib/python3.7/dist-packages (from tensorboard<2.10,>=2.9->tensorflow) (1.35.0)\n",
            "Requirement already satisfied: requests<3,>=2.21.0 in /usr/local/lib/python3.7/dist-packages (from tensorboard<2.10,>=2.9->tensorflow) (2.23.0)\n",
            "Requirement already satisfied: tensorboard-plugin-wit>=1.6.0 in /usr/local/lib/python3.7/dist-packages (from tensorboard<2.10,>=2.9->tensorflow) (1.8.1)\n",
            "Requirement already satisfied: tensorboard-data-server<0.7.0,>=0.6.0 in /usr/local/lib/python3.7/dist-packages (from tensorboard<2.10,>=2.9->tensorflow) (0.6.1)\n",
            "Requirement already satisfied: pyasn1-modules>=0.2.1 in /usr/local/lib/python3.7/dist-packages (from google-auth<3,>=1.6.3->tensorboard<2.10,>=2.9->tensorflow) (0.2.8)\n",
            "Requirement already satisfied: cachetools<5.0,>=2.0.0 in /usr/local/lib/python3.7/dist-packages (from google-auth<3,>=1.6.3->tensorboard<2.10,>=2.9->tensorflow) (4.2.4)\n",
            "Requirement already satisfied: rsa<5,>=3.1.4 in /usr/local/lib/python3.7/dist-packages (from google-auth<3,>=1.6.3->tensorboard<2.10,>=2.9->tensorflow) (4.9)\n",
            "Requirement already satisfied: requests-oauthlib>=0.7.0 in /usr/local/lib/python3.7/dist-packages (from google-auth-oauthlib<0.5,>=0.4.1->tensorboard<2.10,>=2.9->tensorflow) (1.3.1)\n",
            "Requirement already satisfied: importlib-metadata>=4.4 in /usr/local/lib/python3.7/dist-packages (from markdown>=2.6.8->tensorboard<2.10,>=2.9->tensorflow) (4.13.0)\n",
            "Requirement already satisfied: zipp>=0.5 in /usr/local/lib/python3.7/dist-packages (from importlib-metadata>=4.4->markdown>=2.6.8->tensorboard<2.10,>=2.9->tensorflow) (3.10.0)\n",
            "Requirement already satisfied: pyasn1<0.5.0,>=0.4.6 in /usr/local/lib/python3.7/dist-packages (from pyasn1-modules>=0.2.1->google-auth<3,>=1.6.3->tensorboard<2.10,>=2.9->tensorflow) (0.4.8)\n",
            "Requirement already satisfied: urllib3!=1.25.0,!=1.25.1,<1.26,>=1.21.1 in /usr/local/lib/python3.7/dist-packages (from requests<3,>=2.21.0->tensorboard<2.10,>=2.9->tensorflow) (1.24.3)\n",
            "Requirement already satisfied: idna<3,>=2.5 in /usr/local/lib/python3.7/dist-packages (from requests<3,>=2.21.0->tensorboard<2.10,>=2.9->tensorflow) (2.10)\n",
            "Requirement already satisfied: certifi>=2017.4.17 in /usr/local/lib/python3.7/dist-packages (from requests<3,>=2.21.0->tensorboard<2.10,>=2.9->tensorflow) (2022.9.24)\n",
            "Requirement already satisfied: chardet<4,>=3.0.2 in /usr/local/lib/python3.7/dist-packages (from requests<3,>=2.21.0->tensorboard<2.10,>=2.9->tensorflow) (3.0.4)\n",
            "Requirement already satisfied: oauthlib>=3.0.0 in /usr/local/lib/python3.7/dist-packages (from requests-oauthlib>=0.7.0->google-auth-oauthlib<0.5,>=0.4.1->tensorboard<2.10,>=2.9->tensorflow) (3.2.2)\n",
            "Requirement already satisfied: pyparsing!=3.0.5,>=2.0.2 in /usr/local/lib/python3.7/dist-packages (from packaging->tensorflow) (3.0.9)\n"
          ]
        }
      ]
    },
    {
      "cell_type": "code",
      "source": [
        "model = Sequential()\n",
        "model.add(Dense(64, input_dim = 15, activation = 'relu'))\n",
        "model.add(Dense(32, activation = 'relu'))\n",
        "model.add(Dense(1, activation = 'sigmoid'))"
      ],
      "metadata": {
        "id": "xbdIXHRKSP-F"
      },
      "execution_count": null,
      "outputs": []
    },
    {
      "cell_type": "code",
      "source": [
        "model.compile(loss = 'binary_crossentropy', optimizer = 'adam', metrics = ['accuracy'])"
      ],
      "metadata": {
        "id": "KFhZ3Ty4TEH6"
      },
      "execution_count": null,
      "outputs": []
    },
    {
      "cell_type": "code",
      "source": [
        "model.fit(X_train, y_train, validation_data = (X_test, y_test), epochs = 50, batch_size = 64)"
      ],
      "metadata": {
        "colab": {
          "base_uri": "https://localhost:8080/"
        },
        "id": "H3-Mz15fUuW5",
        "outputId": "3d3904ab-8864-4ad1-8fd3-cd603c89f4f2"
      },
      "execution_count": null,
      "outputs": [
        {
          "output_type": "stream",
          "name": "stdout",
          "text": [
            "Epoch 1/50\n",
            "6/6 [==============================] - 1s 43ms/step - loss: 0.6784 - accuracy: 0.6066 - val_loss: 0.6664 - val_accuracy: 0.6084\n",
            "Epoch 2/50\n",
            "6/6 [==============================] - 0s 8ms/step - loss: 0.6488 - accuracy: 0.6817 - val_loss: 0.6382 - val_accuracy: 0.7483\n",
            "Epoch 3/50\n",
            "6/6 [==============================] - 0s 7ms/step - loss: 0.6251 - accuracy: 0.7357 - val_loss: 0.6118 - val_accuracy: 0.7273\n",
            "Epoch 4/50\n",
            "6/6 [==============================] - 0s 12ms/step - loss: 0.6023 - accuracy: 0.7477 - val_loss: 0.5849 - val_accuracy: 0.7343\n",
            "Epoch 5/50\n",
            "6/6 [==============================] - 0s 7ms/step - loss: 0.5792 - accuracy: 0.7838 - val_loss: 0.5574 - val_accuracy: 0.7902\n",
            "Epoch 6/50\n",
            "6/6 [==============================] - 0s 7ms/step - loss: 0.5541 - accuracy: 0.8048 - val_loss: 0.5285 - val_accuracy: 0.8112\n",
            "Epoch 7/50\n",
            "6/6 [==============================] - 0s 11ms/step - loss: 0.5290 - accuracy: 0.8138 - val_loss: 0.4983 - val_accuracy: 0.8741\n",
            "Epoch 8/50\n",
            "6/6 [==============================] - 0s 10ms/step - loss: 0.5033 - accuracy: 0.8408 - val_loss: 0.4680 - val_accuracy: 0.8741\n",
            "Epoch 9/50\n",
            "6/6 [==============================] - 0s 7ms/step - loss: 0.4762 - accuracy: 0.8559 - val_loss: 0.4384 - val_accuracy: 0.8951\n",
            "Epoch 10/50\n",
            "6/6 [==============================] - 0s 8ms/step - loss: 0.4507 - accuracy: 0.8619 - val_loss: 0.4100 - val_accuracy: 0.9301\n",
            "Epoch 11/50\n",
            "6/6 [==============================] - 0s 7ms/step - loss: 0.4245 - accuracy: 0.8889 - val_loss: 0.3819 - val_accuracy: 0.9301\n",
            "Epoch 12/50\n",
            "6/6 [==============================] - 0s 10ms/step - loss: 0.3985 - accuracy: 0.8889 - val_loss: 0.3546 - val_accuracy: 0.9301\n",
            "Epoch 13/50\n",
            "6/6 [==============================] - 0s 11ms/step - loss: 0.3735 - accuracy: 0.8889 - val_loss: 0.3285 - val_accuracy: 0.9301\n",
            "Epoch 14/50\n",
            "6/6 [==============================] - 0s 11ms/step - loss: 0.3501 - accuracy: 0.9099 - val_loss: 0.3026 - val_accuracy: 0.9301\n",
            "Epoch 15/50\n",
            "6/6 [==============================] - 0s 7ms/step - loss: 0.3281 - accuracy: 0.9099 - val_loss: 0.2804 - val_accuracy: 0.9301\n",
            "Epoch 16/50\n",
            "6/6 [==============================] - 0s 7ms/step - loss: 0.3080 - accuracy: 0.9099 - val_loss: 0.2593 - val_accuracy: 0.9301\n",
            "Epoch 17/50\n",
            "6/6 [==============================] - 0s 7ms/step - loss: 0.2891 - accuracy: 0.9069 - val_loss: 0.2415 - val_accuracy: 0.9301\n",
            "Epoch 18/50\n",
            "6/6 [==============================] - 0s 7ms/step - loss: 0.2718 - accuracy: 0.9069 - val_loss: 0.2267 - val_accuracy: 0.9231\n",
            "Epoch 19/50\n",
            "6/6 [==============================] - 0s 11ms/step - loss: 0.2566 - accuracy: 0.9129 - val_loss: 0.2161 - val_accuracy: 0.9231\n",
            "Epoch 20/50\n",
            "6/6 [==============================] - 0s 10ms/step - loss: 0.2441 - accuracy: 0.9099 - val_loss: 0.2062 - val_accuracy: 0.9231\n",
            "Epoch 21/50\n",
            "6/6 [==============================] - 0s 11ms/step - loss: 0.2324 - accuracy: 0.9189 - val_loss: 0.1942 - val_accuracy: 0.9301\n",
            "Epoch 22/50\n",
            "6/6 [==============================] - 0s 8ms/step - loss: 0.2209 - accuracy: 0.9399 - val_loss: 0.1861 - val_accuracy: 0.9301\n",
            "Epoch 23/50\n",
            "6/6 [==============================] - 0s 8ms/step - loss: 0.2112 - accuracy: 0.9369 - val_loss: 0.1788 - val_accuracy: 0.9301\n",
            "Epoch 24/50\n",
            "6/6 [==============================] - 0s 7ms/step - loss: 0.2022 - accuracy: 0.9580 - val_loss: 0.1728 - val_accuracy: 0.9580\n",
            "Epoch 25/50\n",
            "6/6 [==============================] - 0s 8ms/step - loss: 0.1935 - accuracy: 0.9580 - val_loss: 0.1667 - val_accuracy: 0.9580\n",
            "Epoch 26/50\n",
            "6/6 [==============================] - 0s 8ms/step - loss: 0.1858 - accuracy: 0.9580 - val_loss: 0.1612 - val_accuracy: 0.9580\n",
            "Epoch 27/50\n",
            "6/6 [==============================] - 0s 7ms/step - loss: 0.1795 - accuracy: 0.9550 - val_loss: 0.1565 - val_accuracy: 0.9580\n",
            "Epoch 28/50\n",
            "6/6 [==============================] - 0s 8ms/step - loss: 0.1745 - accuracy: 0.9550 - val_loss: 0.1530 - val_accuracy: 0.9580\n",
            "Epoch 29/50\n",
            "6/6 [==============================] - 0s 9ms/step - loss: 0.1662 - accuracy: 0.9580 - val_loss: 0.1518 - val_accuracy: 0.9580\n",
            "Epoch 30/50\n",
            "6/6 [==============================] - 0s 9ms/step - loss: 0.1662 - accuracy: 0.9550 - val_loss: 0.1533 - val_accuracy: 0.9580\n",
            "Epoch 31/50\n",
            "6/6 [==============================] - 0s 11ms/step - loss: 0.1587 - accuracy: 0.9580 - val_loss: 0.1486 - val_accuracy: 0.9510\n",
            "Epoch 32/50\n",
            "6/6 [==============================] - 0s 7ms/step - loss: 0.1549 - accuracy: 0.9580 - val_loss: 0.1467 - val_accuracy: 0.9580\n",
            "Epoch 33/50\n",
            "6/6 [==============================] - 0s 8ms/step - loss: 0.1527 - accuracy: 0.9580 - val_loss: 0.1431 - val_accuracy: 0.9580\n",
            "Epoch 34/50\n",
            "6/6 [==============================] - 0s 7ms/step - loss: 0.1456 - accuracy: 0.9550 - val_loss: 0.1414 - val_accuracy: 0.9510\n",
            "Epoch 35/50\n",
            "6/6 [==============================] - 0s 12ms/step - loss: 0.1442 - accuracy: 0.9580 - val_loss: 0.1396 - val_accuracy: 0.9510\n",
            "Epoch 36/50\n",
            "6/6 [==============================] - 0s 7ms/step - loss: 0.1387 - accuracy: 0.9610 - val_loss: 0.1397 - val_accuracy: 0.9580\n",
            "Epoch 37/50\n",
            "6/6 [==============================] - 0s 7ms/step - loss: 0.1341 - accuracy: 0.9580 - val_loss: 0.1396 - val_accuracy: 0.9510\n",
            "Epoch 38/50\n",
            "6/6 [==============================] - 0s 7ms/step - loss: 0.1313 - accuracy: 0.9640 - val_loss: 0.1407 - val_accuracy: 0.9650\n",
            "Epoch 39/50\n",
            "6/6 [==============================] - 0s 7ms/step - loss: 0.1287 - accuracy: 0.9640 - val_loss: 0.1374 - val_accuracy: 0.9510\n",
            "Epoch 40/50\n",
            "6/6 [==============================] - 0s 14ms/step - loss: 0.1248 - accuracy: 0.9640 - val_loss: 0.1350 - val_accuracy: 0.9650\n",
            "Epoch 41/50\n",
            "6/6 [==============================] - 0s 8ms/step - loss: 0.1212 - accuracy: 0.9610 - val_loss: 0.1349 - val_accuracy: 0.9650\n",
            "Epoch 42/50\n",
            "6/6 [==============================] - 0s 8ms/step - loss: 0.1185 - accuracy: 0.9580 - val_loss: 0.1331 - val_accuracy: 0.9650\n",
            "Epoch 43/50\n",
            "6/6 [==============================] - 0s 8ms/step - loss: 0.1145 - accuracy: 0.9670 - val_loss: 0.1331 - val_accuracy: 0.9650\n",
            "Epoch 44/50\n",
            "6/6 [==============================] - 0s 7ms/step - loss: 0.1115 - accuracy: 0.9670 - val_loss: 0.1324 - val_accuracy: 0.9650\n",
            "Epoch 45/50\n",
            "6/6 [==============================] - 0s 11ms/step - loss: 0.1087 - accuracy: 0.9670 - val_loss: 0.1321 - val_accuracy: 0.9650\n",
            "Epoch 46/50\n",
            "6/6 [==============================] - 0s 8ms/step - loss: 0.1062 - accuracy: 0.9700 - val_loss: 0.1317 - val_accuracy: 0.9650\n",
            "Epoch 47/50\n",
            "6/6 [==============================] - 0s 7ms/step - loss: 0.1064 - accuracy: 0.9730 - val_loss: 0.1316 - val_accuracy: 0.9650\n",
            "Epoch 48/50\n",
            "6/6 [==============================] - 0s 7ms/step - loss: 0.1037 - accuracy: 0.9730 - val_loss: 0.1305 - val_accuracy: 0.9580\n",
            "Epoch 49/50\n",
            "6/6 [==============================] - 0s 7ms/step - loss: 0.1010 - accuracy: 0.9730 - val_loss: 0.1303 - val_accuracy: 0.9580\n",
            "Epoch 50/50\n",
            "6/6 [==============================] - 0s 7ms/step - loss: 0.0988 - accuracy: 0.9730 - val_loss: 0.1307 - val_accuracy: 0.9580\n"
          ]
        },
        {
          "output_type": "execute_result",
          "data": {
            "text/plain": [
              "<keras.callbacks.History at 0x7f031a7f2290>"
            ]
          },
          "metadata": {},
          "execution_count": 19
        }
      ]
    },
    {
      "cell_type": "markdown",
      "source": [
        "There is a small difference in training and validation accuracy. We impose regularization and dropout. "
      ],
      "metadata": {
        "id": "UZ7AVYYvVGMF"
      }
    },
    {
      "cell_type": "code",
      "source": [
        "model1 = Sequential()\n",
        "model1.add(Dense(64, input_dim = 15, activation = 'relu', kernel_regularizer = regularizers.l2(0.01)))\n",
        "model1.add(Dense(32, activation = 'relu'))\n",
        "model1.add(Dropout(0.5))\n",
        "model1.add(Dense(1, activation = 'sigmoid'))"
      ],
      "metadata": {
        "id": "bJoJXbdgVQNR"
      },
      "execution_count": null,
      "outputs": []
    },
    {
      "cell_type": "code",
      "source": [
        "model1.compile(loss = 'binary_crossentropy', optimizer = 'adam', metrics = ['accuracy'])"
      ],
      "metadata": {
        "id": "vIcg5oEtVrGh"
      },
      "execution_count": null,
      "outputs": []
    },
    {
      "cell_type": "code",
      "source": [
        "model1.fit(X_train, y_train, validation_data = (X_test, y_test), epochs = 50, batch_size = 64)"
      ],
      "metadata": {
        "colab": {
          "base_uri": "https://localhost:8080/"
        },
        "id": "wmyAESUVVs6r",
        "outputId": "10f25f87-5dec-4ff4-a157-3c0f46428e45"
      },
      "execution_count": null,
      "outputs": [
        {
          "output_type": "stream",
          "name": "stdout",
          "text": [
            "Epoch 1/50\n",
            "6/6 [==============================] - 1s 43ms/step - loss: 0.9673 - accuracy: 0.5105 - val_loss: 0.9374 - val_accuracy: 0.5035\n",
            "Epoch 2/50\n",
            "6/6 [==============================] - 0s 8ms/step - loss: 0.9452 - accuracy: 0.5015 - val_loss: 0.9070 - val_accuracy: 0.5664\n",
            "Epoch 3/50\n",
            "6/6 [==============================] - 0s 11ms/step - loss: 0.8971 - accuracy: 0.6006 - val_loss: 0.8810 - val_accuracy: 0.7203\n",
            "Epoch 4/50\n",
            "6/6 [==============================] - 0s 12ms/step - loss: 0.8835 - accuracy: 0.6246 - val_loss: 0.8564 - val_accuracy: 0.8252\n",
            "Epoch 5/50\n",
            "6/6 [==============================] - 0s 11ms/step - loss: 0.8623 - accuracy: 0.6637 - val_loss: 0.8327 - val_accuracy: 0.8392\n",
            "Epoch 6/50\n",
            "6/6 [==============================] - 0s 7ms/step - loss: 0.8471 - accuracy: 0.6997 - val_loss: 0.8099 - val_accuracy: 0.7902\n",
            "Epoch 7/50\n",
            "6/6 [==============================] - 0s 8ms/step - loss: 0.8083 - accuracy: 0.7628 - val_loss: 0.7881 - val_accuracy: 0.7832\n",
            "Epoch 8/50\n",
            "6/6 [==============================] - 0s 8ms/step - loss: 0.8098 - accuracy: 0.7117 - val_loss: 0.7660 - val_accuracy: 0.7832\n",
            "Epoch 9/50\n",
            "6/6 [==============================] - 0s 12ms/step - loss: 0.7794 - accuracy: 0.7598 - val_loss: 0.7430 - val_accuracy: 0.8741\n",
            "Epoch 10/50\n",
            "6/6 [==============================] - 0s 10ms/step - loss: 0.7561 - accuracy: 0.7658 - val_loss: 0.7194 - val_accuracy: 0.8881\n",
            "Epoch 11/50\n",
            "6/6 [==============================] - 0s 9ms/step - loss: 0.7475 - accuracy: 0.7628 - val_loss: 0.6971 - val_accuracy: 0.8951\n",
            "Epoch 12/50\n",
            "6/6 [==============================] - 0s 10ms/step - loss: 0.7218 - accuracy: 0.7748 - val_loss: 0.6742 - val_accuracy: 0.9021\n",
            "Epoch 13/50\n",
            "6/6 [==============================] - 0s 11ms/step - loss: 0.7184 - accuracy: 0.7598 - val_loss: 0.6512 - val_accuracy: 0.9021\n",
            "Epoch 14/50\n",
            "6/6 [==============================] - 0s 11ms/step - loss: 0.6842 - accuracy: 0.7988 - val_loss: 0.6259 - val_accuracy: 0.9301\n",
            "Epoch 15/50\n",
            "6/6 [==============================] - 0s 11ms/step - loss: 0.6737 - accuracy: 0.8138 - val_loss: 0.6009 - val_accuracy: 0.9371\n",
            "Epoch 16/50\n",
            "6/6 [==============================] - 0s 9ms/step - loss: 0.6552 - accuracy: 0.7958 - val_loss: 0.5770 - val_accuracy: 0.9371\n",
            "Epoch 17/50\n",
            "6/6 [==============================] - 0s 8ms/step - loss: 0.6354 - accuracy: 0.8228 - val_loss: 0.5538 - val_accuracy: 0.9371\n",
            "Epoch 18/50\n",
            "6/6 [==============================] - 0s 7ms/step - loss: 0.6047 - accuracy: 0.8589 - val_loss: 0.5324 - val_accuracy: 0.9301\n",
            "Epoch 19/50\n",
            "6/6 [==============================] - 0s 8ms/step - loss: 0.5887 - accuracy: 0.8498 - val_loss: 0.5128 - val_accuracy: 0.9301\n",
            "Epoch 20/50\n",
            "6/6 [==============================] - 0s 9ms/step - loss: 0.5711 - accuracy: 0.8649 - val_loss: 0.4935 - val_accuracy: 0.9301\n",
            "Epoch 21/50\n",
            "6/6 [==============================] - 0s 11ms/step - loss: 0.5455 - accuracy: 0.8799 - val_loss: 0.4766 - val_accuracy: 0.9301\n",
            "Epoch 22/50\n",
            "6/6 [==============================] - 0s 7ms/step - loss: 0.5435 - accuracy: 0.8649 - val_loss: 0.4605 - val_accuracy: 0.9301\n",
            "Epoch 23/50\n",
            "6/6 [==============================] - 0s 7ms/step - loss: 0.5079 - accuracy: 0.8919 - val_loss: 0.4450 - val_accuracy: 0.9301\n",
            "Epoch 24/50\n",
            "6/6 [==============================] - 0s 11ms/step - loss: 0.4967 - accuracy: 0.8829 - val_loss: 0.4298 - val_accuracy: 0.9301\n",
            "Epoch 25/50\n",
            "6/6 [==============================] - 0s 8ms/step - loss: 0.5021 - accuracy: 0.8799 - val_loss: 0.4133 - val_accuracy: 0.9371\n",
            "Epoch 26/50\n",
            "6/6 [==============================] - 0s 12ms/step - loss: 0.4774 - accuracy: 0.8889 - val_loss: 0.3993 - val_accuracy: 0.9371\n",
            "Epoch 27/50\n",
            "6/6 [==============================] - 0s 9ms/step - loss: 0.4610 - accuracy: 0.8949 - val_loss: 0.3885 - val_accuracy: 0.9301\n",
            "Epoch 28/50\n",
            "6/6 [==============================] - 0s 8ms/step - loss: 0.4571 - accuracy: 0.9009 - val_loss: 0.3767 - val_accuracy: 0.9231\n",
            "Epoch 29/50\n",
            "6/6 [==============================] - 0s 8ms/step - loss: 0.4355 - accuracy: 0.9039 - val_loss: 0.3651 - val_accuracy: 0.9231\n",
            "Epoch 30/50\n",
            "6/6 [==============================] - 0s 11ms/step - loss: 0.4278 - accuracy: 0.8949 - val_loss: 0.3549 - val_accuracy: 0.9231\n",
            "Epoch 31/50\n",
            "6/6 [==============================] - 0s 8ms/step - loss: 0.4154 - accuracy: 0.8949 - val_loss: 0.3459 - val_accuracy: 0.9231\n",
            "Epoch 32/50\n",
            "6/6 [==============================] - 0s 11ms/step - loss: 0.4021 - accuracy: 0.9159 - val_loss: 0.3390 - val_accuracy: 0.9301\n",
            "Epoch 33/50\n",
            "6/6 [==============================] - 0s 11ms/step - loss: 0.3871 - accuracy: 0.9069 - val_loss: 0.3287 - val_accuracy: 0.9231\n",
            "Epoch 34/50\n",
            "6/6 [==============================] - 0s 8ms/step - loss: 0.3864 - accuracy: 0.9129 - val_loss: 0.3202 - val_accuracy: 0.9301\n",
            "Epoch 35/50\n",
            "6/6 [==============================] - 0s 8ms/step - loss: 0.3795 - accuracy: 0.9099 - val_loss: 0.3147 - val_accuracy: 0.9301\n",
            "Epoch 36/50\n",
            "6/6 [==============================] - 0s 8ms/step - loss: 0.3610 - accuracy: 0.9009 - val_loss: 0.3109 - val_accuracy: 0.9301\n",
            "Epoch 37/50\n",
            "6/6 [==============================] - 0s 8ms/step - loss: 0.3563 - accuracy: 0.9189 - val_loss: 0.3041 - val_accuracy: 0.9371\n",
            "Epoch 38/50\n",
            "6/6 [==============================] - 0s 8ms/step - loss: 0.3767 - accuracy: 0.9069 - val_loss: 0.2992 - val_accuracy: 0.9371\n",
            "Epoch 39/50\n",
            "6/6 [==============================] - 0s 8ms/step - loss: 0.3550 - accuracy: 0.9159 - val_loss: 0.2936 - val_accuracy: 0.9371\n",
            "Epoch 40/50\n",
            "6/6 [==============================] - 0s 11ms/step - loss: 0.3555 - accuracy: 0.8979 - val_loss: 0.2882 - val_accuracy: 0.9301\n",
            "Epoch 41/50\n",
            "6/6 [==============================] - 0s 11ms/step - loss: 0.3469 - accuracy: 0.9099 - val_loss: 0.2840 - val_accuracy: 0.9301\n",
            "Epoch 42/50\n",
            "6/6 [==============================] - 0s 10ms/step - loss: 0.3173 - accuracy: 0.9369 - val_loss: 0.2811 - val_accuracy: 0.9301\n",
            "Epoch 43/50\n",
            "6/6 [==============================] - 0s 8ms/step - loss: 0.3439 - accuracy: 0.9249 - val_loss: 0.2793 - val_accuracy: 0.9231\n",
            "Epoch 44/50\n",
            "6/6 [==============================] - 0s 9ms/step - loss: 0.3221 - accuracy: 0.9279 - val_loss: 0.2752 - val_accuracy: 0.9231\n",
            "Epoch 45/50\n",
            "6/6 [==============================] - 0s 8ms/step - loss: 0.3201 - accuracy: 0.9279 - val_loss: 0.2700 - val_accuracy: 0.9301\n",
            "Epoch 46/50\n",
            "6/6 [==============================] - 0s 8ms/step - loss: 0.3291 - accuracy: 0.9279 - val_loss: 0.2667 - val_accuracy: 0.9580\n",
            "Epoch 47/50\n",
            "6/6 [==============================] - 0s 7ms/step - loss: 0.2985 - accuracy: 0.9279 - val_loss: 0.2677 - val_accuracy: 0.9231\n",
            "Epoch 48/50\n",
            "6/6 [==============================] - 0s 7ms/step - loss: 0.3093 - accuracy: 0.9219 - val_loss: 0.2617 - val_accuracy: 0.9510\n",
            "Epoch 49/50\n",
            "6/6 [==============================] - 0s 8ms/step - loss: 0.2870 - accuracy: 0.9459 - val_loss: 0.2581 - val_accuracy: 0.9510\n",
            "Epoch 50/50\n",
            "6/6 [==============================] - 0s 10ms/step - loss: 0.3039 - accuracy: 0.9189 - val_loss: 0.2579 - val_accuracy: 0.9510\n"
          ]
        },
        {
          "output_type": "execute_result",
          "data": {
            "text/plain": [
              "<keras.callbacks.History at 0x7f031962a050>"
            ]
          },
          "metadata": {},
          "execution_count": 23
        }
      ]
    },
    {
      "cell_type": "markdown",
      "source": [
        "The model now seems to be underfitting. We build a deeper network. "
      ],
      "metadata": {
        "id": "rRD7dv39V0hV"
      }
    },
    {
      "cell_type": "code",
      "source": [
        "model2 = Sequential()\n",
        "model2.add(Dense(128, input_dim = 15, activation = 'relu'))\n",
        "model2.add(Dense(64, activation = 'relu', kernel_regularizer = regularizers.l2(0.01)))\n",
        "model2.add(Dense(32, activation = 'relu'))\n",
        "model2.add(Dropout(0.5))\n",
        "model2.add(Dense(1, activation = 'sigmoid'))"
      ],
      "metadata": {
        "id": "Z0fDTV-qV6aE"
      },
      "execution_count": null,
      "outputs": []
    },
    {
      "cell_type": "code",
      "source": [
        "model2.compile(loss = 'binary_crossentropy', optimizer = 'adam', metrics = ['accuracy'])"
      ],
      "metadata": {
        "id": "6RZeFbvgWsHy"
      },
      "execution_count": null,
      "outputs": []
    },
    {
      "cell_type": "code",
      "source": [
        "model2.fit(X_train, y_train, validation_data = (X_test, y_test), epochs = 50, batch_size = 64)"
      ],
      "metadata": {
        "colab": {
          "base_uri": "https://localhost:8080/"
        },
        "id": "hSY_bjwsWxQE",
        "outputId": "ec912d31-b5f6-44d3-cf46-0b0ea28a07c8"
      },
      "execution_count": null,
      "outputs": [
        {
          "output_type": "stream",
          "name": "stdout",
          "text": [
            "Epoch 1/50\n",
            "6/6 [==============================] - 1s 43ms/step - loss: 1.5335 - accuracy: 0.5586 - val_loss: 1.4600 - val_accuracy: 0.5594\n",
            "Epoch 2/50\n",
            "6/6 [==============================] - 0s 8ms/step - loss: 1.4244 - accuracy: 0.6186 - val_loss: 1.3621 - val_accuracy: 0.6014\n",
            "Epoch 3/50\n",
            "6/6 [==============================] - 0s 8ms/step - loss: 1.3450 - accuracy: 0.6547 - val_loss: 1.2655 - val_accuracy: 0.6993\n",
            "Epoch 4/50\n",
            "6/6 [==============================] - 0s 8ms/step - loss: 1.2446 - accuracy: 0.6967 - val_loss: 1.1651 - val_accuracy: 0.7902\n",
            "Epoch 5/50\n",
            "6/6 [==============================] - 0s 11ms/step - loss: 1.1536 - accuracy: 0.7778 - val_loss: 1.0689 - val_accuracy: 0.9021\n",
            "Epoch 6/50\n",
            "6/6 [==============================] - 0s 11ms/step - loss: 1.0678 - accuracy: 0.8408 - val_loss: 0.9803 - val_accuracy: 0.9091\n",
            "Epoch 7/50\n",
            "6/6 [==============================] - 0s 12ms/step - loss: 0.9930 - accuracy: 0.8649 - val_loss: 0.8913 - val_accuracy: 0.9161\n",
            "Epoch 8/50\n",
            "6/6 [==============================] - 0s 9ms/step - loss: 0.9253 - accuracy: 0.8378 - val_loss: 0.8067 - val_accuracy: 0.9371\n",
            "Epoch 9/50\n",
            "6/6 [==============================] - 0s 13ms/step - loss: 0.8468 - accuracy: 0.8679 - val_loss: 0.7306 - val_accuracy: 0.9371\n",
            "Epoch 10/50\n",
            "6/6 [==============================] - 0s 8ms/step - loss: 0.7790 - accuracy: 0.8979 - val_loss: 0.6695 - val_accuracy: 0.9371\n",
            "Epoch 11/50\n",
            "6/6 [==============================] - 0s 11ms/step - loss: 0.7263 - accuracy: 0.8799 - val_loss: 0.6190 - val_accuracy: 0.9231\n",
            "Epoch 12/50\n",
            "6/6 [==============================] - 0s 8ms/step - loss: 0.6634 - accuracy: 0.8979 - val_loss: 0.5785 - val_accuracy: 0.9301\n",
            "Epoch 13/50\n",
            "6/6 [==============================] - 0s 8ms/step - loss: 0.6255 - accuracy: 0.9009 - val_loss: 0.5399 - val_accuracy: 0.9441\n",
            "Epoch 14/50\n",
            "6/6 [==============================] - 0s 8ms/step - loss: 0.5840 - accuracy: 0.9159 - val_loss: 0.5089 - val_accuracy: 0.9161\n",
            "Epoch 15/50\n",
            "6/6 [==============================] - 0s 8ms/step - loss: 0.5439 - accuracy: 0.9219 - val_loss: 0.4820 - val_accuracy: 0.9301\n",
            "Epoch 16/50\n",
            "6/6 [==============================] - 0s 9ms/step - loss: 0.5046 - accuracy: 0.9159 - val_loss: 0.4545 - val_accuracy: 0.9301\n",
            "Epoch 17/50\n",
            "6/6 [==============================] - 0s 8ms/step - loss: 0.5076 - accuracy: 0.9279 - val_loss: 0.4317 - val_accuracy: 0.9231\n",
            "Epoch 18/50\n",
            "6/6 [==============================] - 0s 8ms/step - loss: 0.4678 - accuracy: 0.9189 - val_loss: 0.4199 - val_accuracy: 0.9301\n",
            "Epoch 19/50\n",
            "6/6 [==============================] - 0s 8ms/step - loss: 0.4399 - accuracy: 0.9369 - val_loss: 0.3986 - val_accuracy: 0.9580\n",
            "Epoch 20/50\n",
            "6/6 [==============================] - 0s 9ms/step - loss: 0.4392 - accuracy: 0.9369 - val_loss: 0.3827 - val_accuracy: 0.9510\n",
            "Epoch 21/50\n",
            "6/6 [==============================] - 0s 8ms/step - loss: 0.4098 - accuracy: 0.9309 - val_loss: 0.3712 - val_accuracy: 0.9510\n",
            "Epoch 22/50\n",
            "6/6 [==============================] - 0s 9ms/step - loss: 0.3855 - accuracy: 0.9309 - val_loss: 0.3554 - val_accuracy: 0.9510\n",
            "Epoch 23/50\n",
            "6/6 [==============================] - 0s 12ms/step - loss: 0.3629 - accuracy: 0.9489 - val_loss: 0.3482 - val_accuracy: 0.9510\n",
            "Epoch 24/50\n",
            "6/6 [==============================] - 0s 11ms/step - loss: 0.3619 - accuracy: 0.9520 - val_loss: 0.3349 - val_accuracy: 0.9510\n",
            "Epoch 25/50\n",
            "6/6 [==============================] - 0s 8ms/step - loss: 0.3408 - accuracy: 0.9459 - val_loss: 0.3293 - val_accuracy: 0.9510\n",
            "Epoch 26/50\n",
            "6/6 [==============================] - 0s 8ms/step - loss: 0.3322 - accuracy: 0.9489 - val_loss: 0.3210 - val_accuracy: 0.9510\n",
            "Epoch 27/50\n",
            "6/6 [==============================] - 0s 10ms/step - loss: 0.3092 - accuracy: 0.9550 - val_loss: 0.3105 - val_accuracy: 0.9510\n",
            "Epoch 28/50\n",
            "6/6 [==============================] - 0s 8ms/step - loss: 0.2877 - accuracy: 0.9700 - val_loss: 0.3006 - val_accuracy: 0.9510\n",
            "Epoch 29/50\n",
            "6/6 [==============================] - 0s 11ms/step - loss: 0.2971 - accuracy: 0.9489 - val_loss: 0.2903 - val_accuracy: 0.9510\n",
            "Epoch 30/50\n",
            "6/6 [==============================] - 0s 8ms/step - loss: 0.2934 - accuracy: 0.9489 - val_loss: 0.2863 - val_accuracy: 0.9580\n",
            "Epoch 31/50\n",
            "6/6 [==============================] - 0s 8ms/step - loss: 0.2751 - accuracy: 0.9610 - val_loss: 0.2819 - val_accuracy: 0.9510\n",
            "Epoch 32/50\n",
            "6/6 [==============================] - 0s 8ms/step - loss: 0.2674 - accuracy: 0.9610 - val_loss: 0.2740 - val_accuracy: 0.9580\n",
            "Epoch 33/50\n",
            "6/6 [==============================] - 0s 16ms/step - loss: 0.2660 - accuracy: 0.9550 - val_loss: 0.2693 - val_accuracy: 0.9510\n",
            "Epoch 34/50\n",
            "6/6 [==============================] - 0s 33ms/step - loss: 0.2554 - accuracy: 0.9610 - val_loss: 0.2714 - val_accuracy: 0.9510\n",
            "Epoch 35/50\n",
            "6/6 [==============================] - 0s 26ms/step - loss: 0.2411 - accuracy: 0.9700 - val_loss: 0.2644 - val_accuracy: 0.9580\n",
            "Epoch 36/50\n",
            "6/6 [==============================] - 0s 22ms/step - loss: 0.2343 - accuracy: 0.9670 - val_loss: 0.2635 - val_accuracy: 0.9510\n",
            "Epoch 37/50\n",
            "6/6 [==============================] - 0s 29ms/step - loss: 0.2350 - accuracy: 0.9640 - val_loss: 0.2541 - val_accuracy: 0.9580\n",
            "Epoch 38/50\n",
            "6/6 [==============================] - 0s 23ms/step - loss: 0.2312 - accuracy: 0.9670 - val_loss: 0.2604 - val_accuracy: 0.9580\n",
            "Epoch 39/50\n",
            "6/6 [==============================] - 0s 35ms/step - loss: 0.2044 - accuracy: 0.9730 - val_loss: 0.2679 - val_accuracy: 0.9580\n",
            "Epoch 40/50\n",
            "6/6 [==============================] - 0s 22ms/step - loss: 0.2111 - accuracy: 0.9700 - val_loss: 0.2589 - val_accuracy: 0.9580\n",
            "Epoch 41/50\n",
            "6/6 [==============================] - 0s 16ms/step - loss: 0.2096 - accuracy: 0.9760 - val_loss: 0.2506 - val_accuracy: 0.9580\n",
            "Epoch 42/50\n",
            "6/6 [==============================] - 0s 15ms/step - loss: 0.1984 - accuracy: 0.9700 - val_loss: 0.2506 - val_accuracy: 0.9580\n",
            "Epoch 43/50\n",
            "6/6 [==============================] - 0s 23ms/step - loss: 0.1991 - accuracy: 0.9640 - val_loss: 0.2459 - val_accuracy: 0.9580\n",
            "Epoch 44/50\n",
            "6/6 [==============================] - 0s 17ms/step - loss: 0.1898 - accuracy: 0.9790 - val_loss: 0.2473 - val_accuracy: 0.9580\n",
            "Epoch 45/50\n",
            "6/6 [==============================] - 0s 22ms/step - loss: 0.1839 - accuracy: 0.9730 - val_loss: 0.2415 - val_accuracy: 0.9580\n",
            "Epoch 46/50\n",
            "6/6 [==============================] - 0s 17ms/step - loss: 0.1689 - accuracy: 0.9850 - val_loss: 0.2435 - val_accuracy: 0.9580\n",
            "Epoch 47/50\n",
            "6/6 [==============================] - 0s 8ms/step - loss: 0.1770 - accuracy: 0.9700 - val_loss: 0.2440 - val_accuracy: 0.9580\n",
            "Epoch 48/50\n",
            "6/6 [==============================] - 0s 8ms/step - loss: 0.1775 - accuracy: 0.9760 - val_loss: 0.2350 - val_accuracy: 0.9650\n",
            "Epoch 49/50\n",
            "6/6 [==============================] - 0s 11ms/step - loss: 0.1714 - accuracy: 0.9760 - val_loss: 0.2369 - val_accuracy: 0.9580\n",
            "Epoch 50/50\n",
            "6/6 [==============================] - 0s 7ms/step - loss: 0.1624 - accuracy: 0.9760 - val_loss: 0.2315 - val_accuracy: 0.9580\n"
          ]
        },
        {
          "output_type": "execute_result",
          "data": {
            "text/plain": [
              "<keras.callbacks.History at 0x7f031946ee10>"
            ]
          },
          "metadata": {},
          "execution_count": 27
        }
      ]
    },
    {
      "cell_type": "markdown",
      "source": [
        "**Evaluation for Deep Learning Model**"
      ],
      "metadata": {
        "id": "2pNfic0LXnp9"
      }
    },
    {
      "cell_type": "code",
      "source": [
        "# Confusion matrix \n",
        "\n",
        "from sklearn.metrics import confusion_matrix \n",
        "\n",
        "predictions = (model2.predict(X_test) > 0.5).astype('int32').reshape(X_test.shape[0])\n",
        "conf_matrix = confusion_matrix(predictions, y_test)\n",
        "\n",
        "sns.heatmap(conf_matrix, annot = True)\n",
        "plt.xlabel(\"Predicted\")\n",
        "plt.ylabel(\"Actual\")"
      ],
      "metadata": {
        "colab": {
          "base_uri": "https://localhost:8080/",
          "height": 316
        },
        "id": "6ceFsxU-ZzpV",
        "outputId": "549bdff2-8e1d-4145-dd5a-83b9ea553d4e"
      },
      "execution_count": null,
      "outputs": [
        {
          "output_type": "stream",
          "name": "stdout",
          "text": [
            "5/5 [==============================] - 0s 3ms/step\n"
          ]
        },
        {
          "output_type": "execute_result",
          "data": {
            "text/plain": [
              "Text(33.0, 0.5, 'Actual')"
            ]
          },
          "metadata": {},
          "execution_count": 44
        },
        {
          "output_type": "display_data",
          "data": {
            "text/plain": [
              "<Figure size 432x288 with 2 Axes>"
            ],
            "image/png": "[encoded data removed]"
          },
          "metadata": {
            "needs_background": "light"
          }
        }
      ]
    },
    {
      "cell_type": "code",
      "source": [
        "# Classification report \n",
        "from sklearn.metrics import classification_report \n",
        "print(classification_report(y_test, predictions))"
      ],
      "metadata": {
        "colab": {
          "base_uri": "https://localhost:8080/"
        },
        "id": "f0c_eP3Hbo2C",
        "outputId": "1db22332-4e34-45b1-b2ce-c24cb04629da"
      },
      "execution_count": null,
      "outputs": [
        {
          "output_type": "stream",
          "name": "stdout",
          "text": [
            "              precision    recall  f1-score   support\n",
            "\n",
            "           0       0.92      1.00      0.96        72\n",
            "           1       1.00      0.92      0.96        71\n",
            "\n",
            "    accuracy                           0.96       143\n",
            "   macro avg       0.96      0.96      0.96       143\n",
            "weighted avg       0.96      0.96      0.96       143\n",
            "\n"
          ]
        }
      ]
    },
    {
      "cell_type": "code",
      "source": [
        "# Postive predictive and negative predictive value \n",
        "# Calculate the probability that a person tested positive will have the disease and the probability that a person tested negative will not have the disease respectively. \n",
        "\n",
        "tp = 65 \n",
        "fp = 6 \n",
        "fn = 0 \n",
        "tn = 72 \n",
        "\n",
        "ppv = tp / (tp + fp)\n",
        "npv = tn / (tn + fn)\n",
        "\n",
        "print(f'The positive predictive value is {round(ppv,2)}.')\n",
        "print(f'The negative predictive value is {npv}.')"
      ],
      "metadata": {
        "colab": {
          "base_uri": "https://localhost:8080/"
        },
        "id": "nFcD1aTPdif3",
        "outputId": "fce5faf8-da32-4eae-c225-0258748c0107"
      },
      "execution_count": null,
      "outputs": [
        {
          "output_type": "stream",
          "name": "stdout",
          "text": [
            "The positive predictive value is 0.92.\n",
            "The negative predictive value is 1.0.\n"
          ]
        }
      ]
    },
    {
      "cell_type": "code",
      "source": [
        "# ROC\n",
        "from sklearn.metrics import roc_curve \n",
        "\n",
        "fpr, tpr, _ = roc_curve(y_test, model2.predict(X_test))\n",
        "\n",
        "plt.plot(fpr, tpr)\n",
        "plt.xlabel('False Positive Rate')\n",
        "plt.ylabel('True Positive Rate')\n",
        "\n",
        "#AU-ROC\n",
        "from sklearn.metrics import roc_auc_score \n",
        "auc = roc_auc_score(y_test, model2.predict(X_test))\n",
        "print(f'The auc is {round(auc,2)}.')"
      ],
      "metadata": {
        "colab": {
          "base_uri": "https://localhost:8080/",
          "height": 334
        },
        "id": "ZfrjjIQ_dnIn",
        "outputId": "7057541e-b67e-4f01-9a26-f52a65a92863"
      },
      "execution_count": null,
      "outputs": [
        {
          "output_type": "stream",
          "name": "stdout",
          "text": [
            "5/5 [==============================] - 0s 2ms/step\n",
            "5/5 [==============================] - 0s 2ms/step\n",
            "The auc is 0.97.\n"
          ]
        },
        {
          "output_type": "display_data",
          "data": {
            "text/plain": [
              "<Figure size 432x288 with 1 Axes>"
            ],
            "image/png": "[encoded data removed]"
          },
          "metadata": {
            "needs_background": "light"
          }
        }
      ]
    }
  ]
}